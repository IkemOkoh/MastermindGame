{
 "cells": [
  {
   "cell_type": "code",
   "execution_count": 1,
   "id": "92b62928-ee7f-461f-90bb-b559317d57ca",
   "metadata": {},
   "outputs": [],
   "source": [
    "import random"
   ]
  },
  {
   "cell_type": "code",
   "execution_count": 3,
   "id": "d8ae3d57-d7b7-4839-ae46-c8b66b66dceb",
   "metadata": {},
   "outputs": [
    {
     "name": "stdout",
     "output_type": "stream",
     "text": [
      "Welcome! Let's play a little game I made....Mastermind! Try to Crack the Code >:3\n",
      "Available Colors: Red ,Green ,Yellow ,Blue ,Purple ,Orange\n",
      "Length of the Code: 4, Max Attempts: 10\n"
     ]
    },
    {
     "name": "stdin",
     "output_type": "stream",
     "text": [
      "Attempt 1/10. Enter your guess:  Yellow Blue Purple Orange\n"
     ]
    },
    {
     "name": "stdout",
     "output_type": "stream",
     "text": [
      "0 colors placed correctly!\n",
      "2 colors placed in wrong positions!\n"
     ]
    },
    {
     "name": "stdin",
     "output_type": "stream",
     "text": [
      "Attempt 2/10. Enter your guess:  Purple Orange Red Green\n"
     ]
    },
    {
     "name": "stdout",
     "output_type": "stream",
     "text": [
      "2 colors placed correctly!\n",
      "0 colors placed in wrong positions!\n"
     ]
    },
    {
     "name": "stdin",
     "output_type": "stream",
     "text": [
      "Attempt 3/10. Enter your guess:  Purple Orange Blue Orange\n"
     ]
    },
    {
     "name": "stdout",
     "output_type": "stream",
     "text": [
      "1 colors placed correctly!\n",
      "0 colors placed in wrong positions!\n"
     ]
    },
    {
     "name": "stdin",
     "output_type": "stream",
     "text": [
      "Attempt 4/10. Enter your guess:  Purple Yellow Red Yellow\n"
     ]
    },
    {
     "name": "stdout",
     "output_type": "stream",
     "text": [
      "3 colors placed correctly!\n",
      "0 colors placed in wrong positions!\n"
     ]
    },
    {
     "name": "stdin",
     "output_type": "stream",
     "text": [
      "Attempt 5/10. Enter your guess:  Purple Yellow Red Orange\n"
     ]
    },
    {
     "name": "stdout",
     "output_type": "stream",
     "text": [
      "2 colors placed correctly!\n",
      "1 colors placed in wrong positions!\n"
     ]
    },
    {
     "name": "stdin",
     "output_type": "stream",
     "text": [
      "Attempt 6/10. Enter your guess:  Blue Yellow Red Yellow\n"
     ]
    },
    {
     "name": "stdout",
     "output_type": "stream",
     "text": [
      "2 colors placed correctly!\n",
      "0 colors placed in wrong positions!\n"
     ]
    },
    {
     "name": "stdin",
     "output_type": "stream",
     "text": [
      "Attempt 7/10. Enter your guess:  Green Yellow Orange Yellow\n"
     ]
    },
    {
     "name": "stdout",
     "output_type": "stream",
     "text": [
      "1 colors placed correctly!\n",
      "0 colors placed in wrong positions!\n"
     ]
    },
    {
     "name": "stdin",
     "output_type": "stream",
     "text": [
      "Attempt 8/10. Enter your guess:  Green Green Green Green\n"
     ]
    },
    {
     "name": "stdout",
     "output_type": "stream",
     "text": [
      "0 colors placed correctly!\n",
      "0 colors placed in wrong positions!\n"
     ]
    },
    {
     "name": "stdin",
     "output_type": "stream",
     "text": [
      "Attempt 9/10. Enter your guess:  Blue Blue Blue Blue\n"
     ]
    },
    {
     "name": "stdout",
     "output_type": "stream",
     "text": [
      "0 colors placed correctly!\n",
      "0 colors placed in wrong positions!\n"
     ]
    },
    {
     "name": "stdin",
     "output_type": "stream",
     "text": [
      "Attempt 10/10. Enter your guess:  Red Yellow Red Yellow\n"
     ]
    },
    {
     "name": "stdout",
     "output_type": "stream",
     "text": [
      "2 colors placed correctly!\n",
      "0 colors placed in wrong positions!\n",
      "You have lost! The code was ['Purple', 'Purple', 'Red', 'Yellow']\n"
     ]
    }
   ],
   "source": [
    "colors = [\"Red\", \"Green\", \"Yellow\", \"Blue\", \"Purple\", \"Orange\"]\n",
    "code_length = 4\n",
    "max_attempts = 10\n",
    "\n",
    "code = random.choices(colors, k=code_length)\n",
    "attempts = 0\n",
    "\n",
    "print(\"Welcome! Let's play a little game I made....Mastermind! Try to Crack the Code >:3\")\n",
    "print(f\"Available Colors: {' ,'.join(colors)}\")\n",
    "print(f\"Length of the Code: {code_length}, Max Attempts: {max_attempts}\")\n",
    "\n",
    "while attempts < max_attempts:\n",
    "        guess = input(f\"Attempt {attempts + 1}/{max_attempts}. Enter your guess: \").strip().split()\n",
    "        if len(guess) != code_length or not all(color in colors for color in guess):\n",
    "            print(\"Invalid Guess! Make sure you have exactly four colors.\")\n",
    "            continue\n",
    "    \n",
    "        correct_position = sum(g == c for g, c in zip(guess, code))\n",
    "        correct_color = sum(min(guess.count(c), code.count(c)) for c in set(code))\n",
    "        correct_color -= correct_position\n",
    "    \n",
    "        print(f\"{correct_position} colors placed correctly!\")\n",
    "        print(f\"{correct_color} colors placed in wrong positions!\")\n",
    "    \n",
    "        if correct_position == code_length:\n",
    "            print(\"Congratulations! You've Won\")\n",
    "            exit()\n",
    "            \n",
    "    \n",
    "        attempts += 1\n",
    "\n",
    "print(f\"You have lost! The code was {code}\")\n",
    "    \n"
   ]
  },
  {
   "cell_type": "code",
   "execution_count": null,
   "id": "cf94785c-af4d-46db-a95c-23ebfc1ceb74",
   "metadata": {},
   "outputs": [],
   "source": []
  },
  {
   "cell_type": "code",
   "execution_count": null,
   "id": "79fb54f9-7283-46b4-b384-2437816423f9",
   "metadata": {},
   "outputs": [],
   "source": []
  }
 ],
 "metadata": {
  "kernelspec": {
   "display_name": "Python 3 (ipykernel)",
   "language": "python",
   "name": "python3"
  },
  "language_info": {
   "codemirror_mode": {
    "name": "ipython",
    "version": 3
   },
   "file_extension": ".py",
   "mimetype": "text/x-python",
   "name": "python",
   "nbconvert_exporter": "python",
   "pygments_lexer": "ipython3",
   "version": "3.12.1"
  }
 },
 "nbformat": 4,
 "nbformat_minor": 5
}
